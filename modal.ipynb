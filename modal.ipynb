{
  "nbformat": 4,
  "nbformat_minor": 5,
  "metadata": {
    "kernelspec": {
      "display_name": "Python 3",
      "language": "python",
      "name": "python3"
    },
    "language_info": {
      "codemirror_mode": {
        "name": "ipython",
        "version": 3
      },
      "file_extension": ".py",
      "mimetype": "text/x-python",
      "name": "python",
      "nbconvert_exporter": "python",
      "pygments_lexer": "ipython3",
      "version": "3.9.4"
    },
    "colab": {
      "name": "modal.ipynb",
      "provenance": [],
      "collapsed_sections": []
    }
  },
  "cells": [
    {
      "cell_type": "code",
      "metadata": {
        "id": "4966f4f4"
      },
      "source": [
        "import pandas as pd\n",
        "import numpy as np\n",
        "import seaborn as sbn\n",
        "import matplotlib.pyplot as plt\n",
        "import matplotlib as mpl\n"
      ],
      "id": "4966f4f4",
      "execution_count": null,
      "outputs": []
    },
    {
      "cell_type": "markdown",
      "metadata": {
        "id": "77caedcf"
      },
      "source": [
        "**importing the csv files"
      ],
      "id": "77caedcf"
    },
    {
      "cell_type": "code",
      "metadata": {
        "id": "c6adbd80"
      },
      "source": [
        "data_accepted = pd.read_csv(\"accepted_2007_to_2018q4.csv\", low_memory=False)\n"
      ],
      "id": "c6adbd80",
      "execution_count": null,
      "outputs": []
    },
    {
      "cell_type": "code",
      "metadata": {
        "id": "0c00ce34"
      },
      "source": [
        "# To display the entire rows without truncation\n",
        "pd.set_option('display.max_rows', 100)"
      ],
      "id": "0c00ce34",
      "execution_count": null,
      "outputs": []
    },
    {
      "cell_type": "markdown",
      "metadata": {
        "id": "e38bb8c6"
      },
      "source": [
        "# Data analysis"
      ],
      "id": "e38bb8c6"
    },
    {
      "cell_type": "code",
      "metadata": {
        "id": "8f6d9435"
      },
      "source": [
        "df_accepted = data_accepted"
      ],
      "id": "8f6d9435",
      "execution_count": null,
      "outputs": []
    },
    {
      "cell_type": "code",
      "metadata": {
        "collapsed": true,
        "id": "6b777192",
        "outputId": "e514b73d-2b9d-474e-b3ee-17c678da6278"
      },
      "source": [
        "df_rejected = data_rejected"
      ],
      "id": "6b777192",
      "execution_count": null,
      "outputs": [
        {
          "output_type": "error",
          "ename": "NameError",
          "evalue": "name 'data_rejected' is not defined",
          "traceback": [
            "\u001b[1;31m---------------------------------------------------------------------------\u001b[0m",
            "\u001b[1;31mNameError\u001b[0m                                 Traceback (most recent call last)",
            "\u001b[1;32m<ipython-input-12-92d8bf57e91f>\u001b[0m in \u001b[0;36m<module>\u001b[1;34m\u001b[0m\n\u001b[1;32m----> 1\u001b[1;33m \u001b[0mdf_rejected\u001b[0m \u001b[1;33m=\u001b[0m \u001b[0mdata_rejected\u001b[0m\u001b[1;33m\u001b[0m\u001b[1;33m\u001b[0m\u001b[0m\n\u001b[0m",
            "\u001b[1;31mNameError\u001b[0m: name 'data_rejected' is not defined"
          ]
        }
      ]
    },
    {
      "cell_type": "markdown",
      "metadata": {
        "id": "6409c794"
      },
      "source": [
        "**More Preprocessing"
      ],
      "id": "6409c794"
    },
    {
      "cell_type": "code",
      "metadata": {
        "id": "a52b57ed"
      },
      "source": [
        "df=data_accepted.copy()"
      ],
      "id": "a52b57ed",
      "execution_count": null,
      "outputs": []
    },
    {
      "cell_type": "code",
      "metadata": {
        "colab": {
          "base_uri": "https://localhost:8080/"
        },
        "id": "241305d2",
        "outputId": "3eaaefcd-84b1-48ed-d4d4-83856612b278"
      },
      "source": [
        "df.shape"
      ],
      "id": "241305d2",
      "execution_count": null,
      "outputs": [
        {
          "output_type": "execute_result",
          "data": {
            "text/plain": [
              "(8406, 151)"
            ]
          },
          "metadata": {
            "tags": []
          },
          "execution_count": 4
        }
      ]
    },
    {
      "cell_type": "code",
      "metadata": {
        "id": "fdc979ea"
      },
      "source": [
        "#transform the loan-status into a binary variable where 'Charged Off' = 1 and 'Fully Paid' = 0.\n",
        "df['loan_status_bin'] = df['loan_status'].map({'Charged Off': 1, 'Fully Paid': 0})"
      ],
      "id": "fdc979ea",
      "execution_count": null,
      "outputs": []
    },
    {
      "cell_type": "code",
      "metadata": {
        "id": "19e8967b"
      },
      "source": [
        "df['annual_inc_log'] = df['annual_inc'].apply(np.log)"
      ],
      "id": "19e8967b",
      "execution_count": null,
      "outputs": []
    },
    {
      "cell_type": "markdown",
      "metadata": {
        "id": "5f858db5"
      },
      "source": [
        "## Model Building"
      ],
      "id": "5f858db5"
    },
    {
      "cell_type": "code",
      "metadata": {
        "id": "cbbab572"
      },
      "source": [
        "#Reduce the dataset to the following columns that will be used for the prediction.\n",
        "\n",
        "columns = ['loan_amnt', 'term', 'int_rate',\n",
        "       'installment', 'grade', 'emp_length', 'annual_inc_log','loan_status_bin','dti',\n",
        "       'fico_range_low', 'inq_last_6mths']\n",
        "df = df[columns]"
      ],
      "id": "cbbab572",
      "execution_count": null,
      "outputs": []
    },
    {
      "cell_type": "code",
      "metadata": {
        "id": "ded1f76b"
      },
      "source": [
        "#Drop all rows with null values as we have sufficient amount of data\n",
        "df.dropna(inplace=True)"
      ],
      "id": "ded1f76b",
      "execution_count": null,
      "outputs": []
    },
    {
      "cell_type": "code",
      "metadata": {
        "colab": {
          "base_uri": "https://localhost:8080/"
        },
        "id": "61a201af",
        "outputId": "cf2475c6-3746-4870-d25c-ddf9091d4cc8"
      },
      "source": [
        "df.shape"
      ],
      "id": "61a201af",
      "execution_count": null,
      "outputs": [
        {
          "output_type": "execute_result",
          "data": {
            "text/plain": [
              "(7072, 11)"
            ]
          },
          "metadata": {
            "tags": []
          },
          "execution_count": 9
        }
      ]
    },
    {
      "cell_type": "code",
      "metadata": {
        "id": "9890ece5"
      },
      "source": [
        "#converting grade from string to numeric\n",
        "df['grade']=df['grade'].map({'A': 1, 'B': 2, 'C': 3, 'D': 4, 'E': 5, 'F': 6, 'G': 7})"
      ],
      "id": "9890ece5",
      "execution_count": null,
      "outputs": []
    },
    {
      "cell_type": "code",
      "metadata": {
        "id": "MQx4SW-mOUST"
      },
      "source": [
        "# Remove string characters in 'term' column\n",
        "df['term'] = df['term'].map(lambda x: x.lstrip(' ').rstrip('months'))"
      ],
      "id": "MQx4SW-mOUST",
      "execution_count": null,
      "outputs": []
    },
    {
      "cell_type": "code",
      "metadata": {
        "id": "UA9rUgfbObuV"
      },
      "source": [
        "# Remove string characters in 'emp_length' column\n",
        "df['emp_length'] = df['emp_length'].str.replace(r'\\D', '')"
      ],
      "id": "UA9rUgfbObuV",
      "execution_count": null,
      "outputs": []
    },
    {
      "cell_type": "code",
      "metadata": {
        "id": "pkb3yGFXOiZ7"
      },
      "source": [
        "# Change datatypes to INTs in the following columns\n",
        "df.term = df.term.astype(\"int64\") \n",
        "df.emp_length = df.emp_length.astype(\"int64\")"
      ],
      "id": "pkb3yGFXOiZ7",
      "execution_count": null,
      "outputs": []
    },
    {
      "cell_type": "code",
      "metadata": {
        "colab": {
          "base_uri": "https://localhost:8080/",
          "height": 419
        },
        "id": "lz5M7wEjOlIO",
        "outputId": "2b344ac6-195f-4ca4-a54e-0ef938b6de8f"
      },
      "source": [
        "df"
      ],
      "id": "lz5M7wEjOlIO",
      "execution_count": null,
      "outputs": [
        {
          "output_type": "execute_result",
          "data": {
            "text/html": [
              "<div>\n",
              "<style scoped>\n",
              "    .dataframe tbody tr th:only-of-type {\n",
              "        vertical-align: middle;\n",
              "    }\n",
              "\n",
              "    .dataframe tbody tr th {\n",
              "        vertical-align: top;\n",
              "    }\n",
              "\n",
              "    .dataframe thead th {\n",
              "        text-align: right;\n",
              "    }\n",
              "</style>\n",
              "<table border=\"1\" class=\"dataframe\">\n",
              "  <thead>\n",
              "    <tr style=\"text-align: right;\">\n",
              "      <th></th>\n",
              "      <th>loan_amnt</th>\n",
              "      <th>term</th>\n",
              "      <th>int_rate</th>\n",
              "      <th>installment</th>\n",
              "      <th>grade</th>\n",
              "      <th>emp_length</th>\n",
              "      <th>annual_inc_log</th>\n",
              "      <th>loan_status_bin</th>\n",
              "      <th>dti</th>\n",
              "      <th>fico_range_low</th>\n",
              "      <th>inq_last_6mths</th>\n",
              "    </tr>\n",
              "  </thead>\n",
              "  <tbody>\n",
              "    <tr>\n",
              "      <th>0</th>\n",
              "      <td>3600.0</td>\n",
              "      <td>36</td>\n",
              "      <td>13.99</td>\n",
              "      <td>123.03</td>\n",
              "      <td>3</td>\n",
              "      <td>10</td>\n",
              "      <td>10.915088</td>\n",
              "      <td>0.0</td>\n",
              "      <td>5.91</td>\n",
              "      <td>675.0</td>\n",
              "      <td>1.0</td>\n",
              "    </tr>\n",
              "    <tr>\n",
              "      <th>1</th>\n",
              "      <td>24700.0</td>\n",
              "      <td>36</td>\n",
              "      <td>11.99</td>\n",
              "      <td>820.28</td>\n",
              "      <td>3</td>\n",
              "      <td>10</td>\n",
              "      <td>11.082143</td>\n",
              "      <td>0.0</td>\n",
              "      <td>16.06</td>\n",
              "      <td>715.0</td>\n",
              "      <td>4.0</td>\n",
              "    </tr>\n",
              "    <tr>\n",
              "      <th>2</th>\n",
              "      <td>20000.0</td>\n",
              "      <td>60</td>\n",
              "      <td>10.78</td>\n",
              "      <td>432.66</td>\n",
              "      <td>2</td>\n",
              "      <td>10</td>\n",
              "      <td>11.050890</td>\n",
              "      <td>0.0</td>\n",
              "      <td>10.78</td>\n",
              "      <td>695.0</td>\n",
              "      <td>0.0</td>\n",
              "    </tr>\n",
              "    <tr>\n",
              "      <th>4</th>\n",
              "      <td>10400.0</td>\n",
              "      <td>60</td>\n",
              "      <td>22.45</td>\n",
              "      <td>289.91</td>\n",
              "      <td>6</td>\n",
              "      <td>3</td>\n",
              "      <td>11.556301</td>\n",
              "      <td>0.0</td>\n",
              "      <td>25.37</td>\n",
              "      <td>695.0</td>\n",
              "      <td>3.0</td>\n",
              "    </tr>\n",
              "    <tr>\n",
              "      <th>5</th>\n",
              "      <td>11950.0</td>\n",
              "      <td>36</td>\n",
              "      <td>13.44</td>\n",
              "      <td>405.18</td>\n",
              "      <td>3</td>\n",
              "      <td>4</td>\n",
              "      <td>10.434116</td>\n",
              "      <td>0.0</td>\n",
              "      <td>10.20</td>\n",
              "      <td>690.0</td>\n",
              "      <td>0.0</td>\n",
              "    </tr>\n",
              "    <tr>\n",
              "      <th>...</th>\n",
              "      <td>...</td>\n",
              "      <td>...</td>\n",
              "      <td>...</td>\n",
              "      <td>...</td>\n",
              "      <td>...</td>\n",
              "      <td>...</td>\n",
              "      <td>...</td>\n",
              "      <td>...</td>\n",
              "      <td>...</td>\n",
              "      <td>...</td>\n",
              "      <td>...</td>\n",
              "    </tr>\n",
              "    <tr>\n",
              "      <th>8398</th>\n",
              "      <td>10000.0</td>\n",
              "      <td>36</td>\n",
              "      <td>9.17</td>\n",
              "      <td>318.79</td>\n",
              "      <td>2</td>\n",
              "      <td>10</td>\n",
              "      <td>11.002100</td>\n",
              "      <td>0.0</td>\n",
              "      <td>8.00</td>\n",
              "      <td>660.0</td>\n",
              "      <td>0.0</td>\n",
              "    </tr>\n",
              "    <tr>\n",
              "      <th>8399</th>\n",
              "      <td>13525.0</td>\n",
              "      <td>60</td>\n",
              "      <td>12.59</td>\n",
              "      <td>304.91</td>\n",
              "      <td>3</td>\n",
              "      <td>4</td>\n",
              "      <td>10.839581</td>\n",
              "      <td>0.0</td>\n",
              "      <td>33.86</td>\n",
              "      <td>710.0</td>\n",
              "      <td>2.0</td>\n",
              "    </tr>\n",
              "    <tr>\n",
              "      <th>8400</th>\n",
              "      <td>13000.0</td>\n",
              "      <td>36</td>\n",
              "      <td>6.24</td>\n",
              "      <td>396.91</td>\n",
              "      <td>1</td>\n",
              "      <td>1</td>\n",
              "      <td>10.933107</td>\n",
              "      <td>0.0</td>\n",
              "      <td>16.91</td>\n",
              "      <td>680.0</td>\n",
              "      <td>0.0</td>\n",
              "    </tr>\n",
              "    <tr>\n",
              "      <th>8404</th>\n",
              "      <td>21600.0</td>\n",
              "      <td>60</td>\n",
              "      <td>13.67</td>\n",
              "      <td>498.91</td>\n",
              "      <td>3</td>\n",
              "      <td>5</td>\n",
              "      <td>11.002100</td>\n",
              "      <td>1.0</td>\n",
              "      <td>22.68</td>\n",
              "      <td>700.0</td>\n",
              "      <td>0.0</td>\n",
              "    </tr>\n",
              "    <tr>\n",
              "      <th>8405</th>\n",
              "      <td>7700.0</td>\n",
              "      <td>36</td>\n",
              "      <td>18.20</td>\n",
              "      <td>279.15</td>\n",
              "      <td>5</td>\n",
              "      <td>10</td>\n",
              "      <td>10.714418</td>\n",
              "      <td>0.0</td>\n",
              "      <td>34.75</td>\n",
              "      <td>725.0</td>\n",
              "      <td>2.0</td>\n",
              "    </tr>\n",
              "  </tbody>\n",
              "</table>\n",
              "<p>7072 rows × 11 columns</p>\n",
              "</div>"
            ],
            "text/plain": [
              "      loan_amnt  term  int_rate  ...    dti  fico_range_low  inq_last_6mths\n",
              "0        3600.0    36     13.99  ...   5.91           675.0             1.0\n",
              "1       24700.0    36     11.99  ...  16.06           715.0             4.0\n",
              "2       20000.0    60     10.78  ...  10.78           695.0             0.0\n",
              "4       10400.0    60     22.45  ...  25.37           695.0             3.0\n",
              "5       11950.0    36     13.44  ...  10.20           690.0             0.0\n",
              "...         ...   ...       ...  ...    ...             ...             ...\n",
              "8398    10000.0    36      9.17  ...   8.00           660.0             0.0\n",
              "8399    13525.0    60     12.59  ...  33.86           710.0             2.0\n",
              "8400    13000.0    36      6.24  ...  16.91           680.0             0.0\n",
              "8404    21600.0    60     13.67  ...  22.68           700.0             0.0\n",
              "8405     7700.0    36     18.20  ...  34.75           725.0             2.0\n",
              "\n",
              "[7072 rows x 11 columns]"
            ]
          },
          "metadata": {
            "tags": []
          },
          "execution_count": 14
        }
      ]
    },
    {
      "cell_type": "code",
      "metadata": {
        "id": "2af564ff"
      },
      "source": [
        "df_dummies = pd.get_dummies(df) #get dummy for categorical features"
      ],
      "id": "2af564ff",
      "execution_count": null,
      "outputs": []
    },
    {
      "cell_type": "code",
      "metadata": {
        "id": "a744fb9f"
      },
      "source": [
        "drop_columns = df_dummies.columns[(df_dummies.mean()<0.01)] #drop all dummy-variables which contain not at least 1% ones\n",
        "df_dummies.drop(drop_columns, axis=1, inplace=True)"
      ],
      "id": "a744fb9f",
      "execution_count": null,
      "outputs": []
    },
    {
      "cell_type": "code",
      "metadata": {
        "id": "af4679e1",
        "outputId": "31a95d0a-0b3d-4209-8be9-fe5eda131238"
      },
      "source": [
        "df_dummies.head()"
      ],
      "id": "af4679e1",
      "execution_count": null,
      "outputs": [
        {
          "output_type": "execute_result",
          "data": {
            "text/html": [
              "<div>\n",
              "<style scoped>\n",
              "    .dataframe tbody tr th:only-of-type {\n",
              "        vertical-align: middle;\n",
              "    }\n",
              "\n",
              "    .dataframe tbody tr th {\n",
              "        vertical-align: top;\n",
              "    }\n",
              "\n",
              "    .dataframe thead th {\n",
              "        text-align: right;\n",
              "    }\n",
              "</style>\n",
              "<table border=\"1\" class=\"dataframe\">\n",
              "  <thead>\n",
              "    <tr style=\"text-align: right;\">\n",
              "      <th></th>\n",
              "      <th>loan_amnt</th>\n",
              "      <th>int_rate</th>\n",
              "      <th>installment</th>\n",
              "      <th>grade</th>\n",
              "      <th>annual_inc_log</th>\n",
              "      <th>loan_status_bin</th>\n",
              "      <th>dti</th>\n",
              "      <th>delinq_2yrs</th>\n",
              "      <th>fico_range_low</th>\n",
              "      <th>inq_last_6mths</th>\n",
              "      <th>...</th>\n",
              "      <th>addr_state_NY</th>\n",
              "      <th>addr_state_OH</th>\n",
              "      <th>addr_state_OR</th>\n",
              "      <th>addr_state_PA</th>\n",
              "      <th>addr_state_SC</th>\n",
              "      <th>addr_state_TN</th>\n",
              "      <th>addr_state_TX</th>\n",
              "      <th>addr_state_VA</th>\n",
              "      <th>addr_state_WA</th>\n",
              "      <th>addr_state_WI</th>\n",
              "    </tr>\n",
              "  </thead>\n",
              "  <tbody>\n",
              "    <tr>\n",
              "      <th>0</th>\n",
              "      <td>3600.0</td>\n",
              "      <td>13.99</td>\n",
              "      <td>123.03</td>\n",
              "      <td>3</td>\n",
              "      <td>10.915088</td>\n",
              "      <td>0.0</td>\n",
              "      <td>5.91</td>\n",
              "      <td>0.0</td>\n",
              "      <td>675.0</td>\n",
              "      <td>1.0</td>\n",
              "      <td>...</td>\n",
              "      <td>0</td>\n",
              "      <td>0</td>\n",
              "      <td>0</td>\n",
              "      <td>1</td>\n",
              "      <td>0</td>\n",
              "      <td>0</td>\n",
              "      <td>0</td>\n",
              "      <td>0</td>\n",
              "      <td>0</td>\n",
              "      <td>0</td>\n",
              "    </tr>\n",
              "    <tr>\n",
              "      <th>1</th>\n",
              "      <td>24700.0</td>\n",
              "      <td>11.99</td>\n",
              "      <td>820.28</td>\n",
              "      <td>3</td>\n",
              "      <td>11.082143</td>\n",
              "      <td>0.0</td>\n",
              "      <td>16.06</td>\n",
              "      <td>1.0</td>\n",
              "      <td>715.0</td>\n",
              "      <td>4.0</td>\n",
              "      <td>...</td>\n",
              "      <td>0</td>\n",
              "      <td>0</td>\n",
              "      <td>0</td>\n",
              "      <td>0</td>\n",
              "      <td>0</td>\n",
              "      <td>0</td>\n",
              "      <td>0</td>\n",
              "      <td>0</td>\n",
              "      <td>0</td>\n",
              "      <td>0</td>\n",
              "    </tr>\n",
              "    <tr>\n",
              "      <th>2</th>\n",
              "      <td>20000.0</td>\n",
              "      <td>10.78</td>\n",
              "      <td>432.66</td>\n",
              "      <td>2</td>\n",
              "      <td>11.050890</td>\n",
              "      <td>0.0</td>\n",
              "      <td>10.78</td>\n",
              "      <td>0.0</td>\n",
              "      <td>695.0</td>\n",
              "      <td>0.0</td>\n",
              "      <td>...</td>\n",
              "      <td>0</td>\n",
              "      <td>0</td>\n",
              "      <td>0</td>\n",
              "      <td>0</td>\n",
              "      <td>0</td>\n",
              "      <td>0</td>\n",
              "      <td>0</td>\n",
              "      <td>0</td>\n",
              "      <td>0</td>\n",
              "      <td>0</td>\n",
              "    </tr>\n",
              "    <tr>\n",
              "      <th>4</th>\n",
              "      <td>10400.0</td>\n",
              "      <td>22.45</td>\n",
              "      <td>289.91</td>\n",
              "      <td>6</td>\n",
              "      <td>11.556301</td>\n",
              "      <td>0.0</td>\n",
              "      <td>25.37</td>\n",
              "      <td>1.0</td>\n",
              "      <td>695.0</td>\n",
              "      <td>3.0</td>\n",
              "      <td>...</td>\n",
              "      <td>0</td>\n",
              "      <td>0</td>\n",
              "      <td>0</td>\n",
              "      <td>1</td>\n",
              "      <td>0</td>\n",
              "      <td>0</td>\n",
              "      <td>0</td>\n",
              "      <td>0</td>\n",
              "      <td>0</td>\n",
              "      <td>0</td>\n",
              "    </tr>\n",
              "    <tr>\n",
              "      <th>5</th>\n",
              "      <td>11950.0</td>\n",
              "      <td>13.44</td>\n",
              "      <td>405.18</td>\n",
              "      <td>3</td>\n",
              "      <td>10.434116</td>\n",
              "      <td>0.0</td>\n",
              "      <td>10.20</td>\n",
              "      <td>0.0</td>\n",
              "      <td>690.0</td>\n",
              "      <td>0.0</td>\n",
              "      <td>...</td>\n",
              "      <td>0</td>\n",
              "      <td>0</td>\n",
              "      <td>0</td>\n",
              "      <td>0</td>\n",
              "      <td>0</td>\n",
              "      <td>0</td>\n",
              "      <td>0</td>\n",
              "      <td>0</td>\n",
              "      <td>0</td>\n",
              "      <td>0</td>\n",
              "    </tr>\n",
              "  </tbody>\n",
              "</table>\n",
              "<p>5 rows × 70 columns</p>\n",
              "</div>"
            ],
            "text/plain": [
              "   loan_amnt  int_rate  installment  grade  annual_inc_log  loan_status_bin  \\\n",
              "0     3600.0     13.99       123.03      3       10.915088              0.0   \n",
              "1    24700.0     11.99       820.28      3       11.082143              0.0   \n",
              "2    20000.0     10.78       432.66      2       11.050890              0.0   \n",
              "4    10400.0     22.45       289.91      6       11.556301              0.0   \n",
              "5    11950.0     13.44       405.18      3       10.434116              0.0   \n",
              "\n",
              "     dti  delinq_2yrs  fico_range_low  inq_last_6mths  ...  addr_state_NY  \\\n",
              "0   5.91          0.0           675.0             1.0  ...              0   \n",
              "1  16.06          1.0           715.0             4.0  ...              0   \n",
              "2  10.78          0.0           695.0             0.0  ...              0   \n",
              "4  25.37          1.0           695.0             3.0  ...              0   \n",
              "5  10.20          0.0           690.0             0.0  ...              0   \n",
              "\n",
              "   addr_state_OH  addr_state_OR  addr_state_PA  addr_state_SC  addr_state_TN  \\\n",
              "0              0              0              1              0              0   \n",
              "1              0              0              0              0              0   \n",
              "2              0              0              0              0              0   \n",
              "4              0              0              1              0              0   \n",
              "5              0              0              0              0              0   \n",
              "\n",
              "   addr_state_TX  addr_state_VA  addr_state_WA  addr_state_WI  \n",
              "0              0              0              0              0  \n",
              "1              0              0              0              0  \n",
              "2              0              0              0              0  \n",
              "4              0              0              0              0  \n",
              "5              0              0              0              0  \n",
              "\n",
              "[5 rows x 70 columns]"
            ]
          },
          "metadata": {
            "tags": []
          },
          "execution_count": 34
        }
      ]
    },
    {
      "cell_type": "code",
      "metadata": {
        "id": "c1811046"
      },
      "source": [
        "X = df.drop('loan_status_bin', axis=1)\n",
        "y = df['loan_status_bin']"
      ],
      "id": "c1811046",
      "execution_count": null,
      "outputs": []
    },
    {
      "cell_type": "markdown",
      "metadata": {
        "id": "a068ab25"
      },
      "source": [
        "**Train and Test set"
      ],
      "id": "a068ab25"
    },
    {
      "cell_type": "code",
      "metadata": {
        "id": "f0fb3287"
      },
      "source": [
        "from sklearn.model_selection import train_test_split\n",
        "X_train, X_test, y_train, y_test = train_test_split(X, y, test_size=0.2, random_state=0)"
      ],
      "id": "f0fb3287",
      "execution_count": null,
      "outputs": []
    },
    {
      "cell_type": "code",
      "metadata": {
        "id": "cb757876"
      },
      "source": [
        "from sklearn.preprocessing import MinMaxScaler\n",
        "from sklearn.linear_model import LogisticRegression\n",
        "from sklearn.pipeline import Pipeline\n",
        "\n",
        "sc = MinMaxScaler()\n",
        "sc.clip= False\n",
        "clf = LogisticRegression(penalty='l1', C=0.01, solver='liblinear')\n",
        "\n",
        "pipe_lr = Pipeline([('scaler', sc), ('clf', clf)])"
      ],
      "id": "cb757876",
      "execution_count": null,
      "outputs": []
    },
    {
      "cell_type": "code",
      "metadata": {
        "colab": {
          "base_uri": "https://localhost:8080/"
        },
        "id": "1f40b1ce",
        "outputId": "db28fb28-77c6-47e6-cac8-960645d88742"
      },
      "source": [
        "pipe_lr.fit(X_train, y_train)"
      ],
      "id": "1f40b1ce",
      "execution_count": null,
      "outputs": [
        {
          "output_type": "execute_result",
          "data": {
            "text/plain": [
              "Pipeline(memory=None,\n",
              "         steps=[('scaler', MinMaxScaler(copy=True, feature_range=(0, 1))),\n",
              "                ('clf',\n",
              "                 LogisticRegression(C=0.01, class_weight=None, dual=False,\n",
              "                                    fit_intercept=True, intercept_scaling=1,\n",
              "                                    l1_ratio=None, max_iter=100,\n",
              "                                    multi_class='auto', n_jobs=None,\n",
              "                                    penalty='l1', random_state=None,\n",
              "                                    solver='liblinear', tol=0.0001, verbose=0,\n",
              "                                    warm_start=False))],\n",
              "         verbose=False)"
            ]
          },
          "metadata": {
            "tags": []
          },
          "execution_count": 19
        }
      ]
    },
    {
      "cell_type": "code",
      "metadata": {
        "colab": {
          "base_uri": "https://localhost:8080/"
        },
        "id": "413d72ab",
        "outputId": "5a7ead7c-faf5-474c-c5cf-9a997fc0f858"
      },
      "source": [
        "pipe_lr.score(X_train, y_train) #accuracy rate"
      ],
      "id": "413d72ab",
      "execution_count": null,
      "outputs": [
        {
          "output_type": "execute_result",
          "data": {
            "text/plain": [
              "0.8069648223439986"
            ]
          },
          "metadata": {
            "tags": []
          },
          "execution_count": 20
        }
      ]
    },
    {
      "cell_type": "code",
      "metadata": {
        "colab": {
          "base_uri": "https://localhost:8080/",
          "height": 312
        },
        "id": "f1cd62c1",
        "outputId": "d7b01b42-d041-45fb-c9ff-6ec83d6e5b83"
      },
      "source": [
        "test_probas = pipe_lr.predict_proba(X_test)[:,1]\n",
        "from sklearn.metrics import roc_auc_score\n",
        "from sklearn.metrics import roc_curve\n",
        "from sklearn.metrics import accuracy_score\n",
        "\n",
        "fpr, tpr, tresholds = roc_curve(y_test, test_probas)\n",
        "plt.plot(fpr, tpr)\n",
        "plt.title('ROC')\n",
        "plt.xlabel('FPR')\n",
        "plt.ylabel('TPR')\n",
        "\n",
        "print('ROC-AUC-score: ', roc_auc_score(y_test, test_probas))"
      ],
      "id": "f1cd62c1",
      "execution_count": null,
      "outputs": [
        {
          "output_type": "stream",
          "text": [
            "ROC-AUC-score:  0.6082944355730255\n"
          ],
          "name": "stdout"
        },
        {
          "output_type": "display_data",
          "data": {
            "image/png": "[encoded data removed]",
            "text/plain": [
              "<Figure size 432x288 with 1 Axes>"
            ]
          },
          "metadata": {
            "tags": [],
            "needs_background": "light"
          }
        }
      ]
    },
    {
      "cell_type": "code",
      "metadata": {
        "id": "b4afbb2b",
        "outputId": "43187dff-6a28-48e4-8b91-67bfdff4b1c0"
      },
      "source": [
        "#Testing with LR.score:\n",
        "\n",
        "accuracy_score(y_test, pipe_lr.predict(X_test))"
      ],
      "id": "b4afbb2b",
      "execution_count": null,
      "outputs": [
        {
          "output_type": "execute_result",
          "data": {
            "text/plain": [
              "0.8059558838049724"
            ]
          },
          "metadata": {
            "tags": []
          },
          "execution_count": 41
        }
      ]
    },
    {
      "cell_type": "code",
      "metadata": {
        "id": "ee205d2b"
      },
      "source": [
        "import pickle\n",
        "pickle_out= open(\"pick.pkl\",mode=\"wb\")\n",
        "pickle.dump(pipe_lr,pickle_out)\n",
        "pickle_out.close()"
      ],
      "id": "ee205d2b",
      "execution_count": null,
      "outputs": []
    },
    {
      "cell_type": "code",
      "metadata": {
        "colab": {
          "base_uri": "https://localhost:8080/"
        },
        "id": "1af54e25",
        "outputId": "0d406363-159c-405a-d2ba-2b01e9f45788"
      },
      "source": [
        "X_train.shape"
      ],
      "id": "1af54e25",
      "execution_count": null,
      "outputs": [
        {
          "output_type": "execute_result",
          "data": {
            "text/plain": [
              "(5657, 10)"
            ]
          },
          "metadata": {
            "tags": []
          },
          "execution_count": 23
        }
      ]
    },
    {
      "cell_type": "code",
      "metadata": {
        "id": "e29580e2"
      },
      "source": [
        ""
      ],
      "id": "e29580e2",
      "execution_count": null,
      "outputs": []
    }
  ]
}